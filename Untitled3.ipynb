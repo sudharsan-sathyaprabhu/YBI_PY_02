{
  "nbformat": 4,
  "nbformat_minor": 0,
  "metadata": {
    "colab": {
      "provenance": [],
      "authorship_tag": "ABX9TyMkr4XYDi44QfyKN1Ll2MFF",
      "include_colab_link": true
    },
    "kernelspec": {
      "name": "python3",
      "display_name": "Python 3"
    },
    "language_info": {
      "name": "python"
    }
  },
  "cells": [
    {
      "cell_type": "markdown",
      "metadata": {
        "id": "view-in-github",
        "colab_type": "text"
      },
      "source": [
        "<a href=\"https://colab.research.google.com/github/sudharsan-sathyaprabhu/YBI_PY_02/blob/main/Untitled3.ipynb\" target=\"_parent\"><img src=\"https://colab.research.google.com/assets/colab-badge.svg\" alt=\"Open In Colab\"/></a>"
      ]
    },
    {
      "cell_type": "code",
      "execution_count": 3,
      "metadata": {
        "id": "B437kqoEqWRr"
      },
      "outputs": [],
      "source": [
        "import pandas as pd\n",
        "\n",
        "# Movies data\n",
        "movies_data = {\n",
        "    'movieId': [1, 2, 3, 4, 5],\n",
        "    'title': ['Toy Story (1995)', 'Jumanji (1995)', 'Grumpier Old Men (1995)', 'Waiting to Exhale (1995)', 'Father of the Bride Part II (1995)'],\n",
        "    'genres': ['Animation|Children\\'s|Comedy', 'Adventure|Children\\'s|Fantasy', 'Comedy|Romance', 'Comedy|Drama', 'Comedy']\n",
        "}\n",
        "\n",
        "movies_df = pd.DataFrame(movies_data)\n",
        "movies_df.to_csv('movies.csv', index=False)\n",
        "\n",
        "# Ratings data\n",
        "ratings_data = {\n",
        "    'userId': [1, 1, 1, 2, 2],\n",
        "    'movieId': [1, 3, 6, 1, 2],\n",
        "    'rating': [4.0, 4.0, 4.0, 5.0, 3.0],\n",
        "    'timestamp': [964982703, 964981247, 964982224, 964982931, 964982400]\n",
        "}\n",
        "\n",
        "ratings_df = pd.DataFrame(ratings_data)\n",
        "ratings_df.to_csv('ratings.csv', index=False)"
      ]
    }
  ]
}